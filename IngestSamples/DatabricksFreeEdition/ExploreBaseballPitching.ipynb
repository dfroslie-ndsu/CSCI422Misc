{
 "cells": [
  {
   "cell_type": "markdown",
   "metadata": {
    "application/vnd.databricks.v1+cell": {
     "cellMetadata": {},
     "inputWidgets": {},
     "nuid": "5f629349-35c4-4e3d-91ef-572aa74a446e",
     "showTitle": false,
     "tableResultSettingsMap": {},
     "title": ""
    }
   },
   "source": [
    "# Explore Baseball Pitching\n",
    "Explores the pitching dataset.  It is done in a way that mimics homework assignments so that students get comfortable with this pattern.  A more typical \"Explore\" script will have many of the same operations, but it won't create and update an answers_df to track the results.  That said, it's not a bad way to track your questions about the dataset and have the answers in a downloadable format."
   ]
  },
  {
   "cell_type": "code",
   "execution_count": 0,
   "metadata": {
    "application/vnd.databricks.v1+cell": {
     "cellMetadata": {
      "byteLimit": 2048000,
      "rowLimit": 10000
     },
     "inputWidgets": {},
     "nuid": "1cd0863c-01fa-4669-b40a-6a22264851be",
     "showTitle": false,
     "tableResultSettingsMap": {},
     "title": ""
    }
   },
   "outputs": [],
   "source": [
    "# Generate data frame for the questions and answers.  \n",
    "# Since this pattern is typically used for assignments, their is a Points column for each answer.\n",
    "from pyspark.sql import Row\n",
    "from pyspark.sql.functions import lit, when, sum\n",
    "\n",
    "# Specify each row with custom values\n",
    "rows = [\n",
    "    Row(Number=1, Question=\"Rows in your ingested dataset: \", Answer=\"0\", Points=0.0),\n",
    "    Row(Number=2, Question=\"Columns in your ingested dataset: \", Answer=\"0\", Points=0.0),\n",
    "    Row(Number=3, Question=\"Years in your dataset: \", Answer=\"0\", Points=0.0),\n",
    "    Row(Number=4, Question=\"Distinct teams in your dataset: \", Answer=\"0\", Points=0.0),\n",
    "    Row(Number=5, Question=\"ERA normal distribution notes: \", Answer=\"Text\", Points=0.0),\n",
    "    Row(Number=6, Question=\"Age normal distribution notes: \", Answer=\"Text\", Points=0.0),\n",
    "    Row(Number=7, Question=\"Count of players that made this list for all years: \", Answer=\"0\", Points=0.0)\n",
    "]\n",
    "\n",
    "# Create a dataframe from the list of rows\n",
    "answer_df = spark.createDataFrame(rows)\n",
    "\n",
    "display(answer_df)"
   ]
  },
  {
   "cell_type": "code",
   "execution_count": 0,
   "metadata": {
    "application/vnd.databricks.v1+cell": {
     "cellMetadata": {
      "byteLimit": 2048000,
      "rowLimit": 10000
     },
     "inputWidgets": {},
     "nuid": "2d523517-00a4-46fa-9805-c0b3023de04c",
     "showTitle": false,
     "tableResultSettingsMap": {},
     "title": ""
    }
   },
   "outputs": [],
   "source": [
    "pitching_df = spark.read.table(\"bronze_examples.pitching\")\n",
    "\n",
    "display(pitching_df)"
   ]
  },
  {
   "cell_type": "code",
   "execution_count": 0,
   "metadata": {
    "application/vnd.databricks.v1+cell": {
     "cellMetadata": {
      "byteLimit": 2048000,
      "rowLimit": 10000
     },
     "inputWidgets": {},
     "nuid": "ccf01cc2-729e-4689-a373-bf322dec0dd6",
     "showTitle": false,
     "tableResultSettingsMap": {},
     "title": ""
    }
   },
   "outputs": [],
   "source": [
    "# Question 1 - How many rows are in your ingested dataset?\n",
    "# Your code\n",
    "your_answer = pitching_df.count()\n",
    "\n",
    "# Add answer to the answer data frame.  \n",
    "answer_df = answer_df.withColumn(\"Answer\", \n",
    "                                 when(answer_df.Number == 1, lit(str(your_answer)))\n",
    "                                 .otherwise(answer_df.Answer))\n",
    "display(answer_df)"
   ]
  },
  {
   "cell_type": "code",
   "execution_count": 0,
   "metadata": {
    "application/vnd.databricks.v1+cell": {
     "cellMetadata": {
      "byteLimit": 2048000,
      "rowLimit": 10000
     },
     "inputWidgets": {},
     "nuid": "acc1f53d-5d16-4d63-93ff-77f22aea08ce",
     "showTitle": false,
     "tableResultSettingsMap": {},
     "title": ""
    }
   },
   "outputs": [],
   "source": [
    "#  Question 2 - How many columns are in your ingested dataset?\n",
    "# Your code\n",
    "your_answer = len(pitching_df.columns)\n",
    "\n",
    "# Add answer to the answer data frame.  \n",
    "answer_df = answer_df.withColumn(\"Answer\", \n",
    "                                 when(answer_df.Number == 2, lit(str(your_answer)))\n",
    "                                 .otherwise(answer_df.Answer))\n",
    "display(answer_df)"
   ]
  },
  {
   "cell_type": "code",
   "execution_count": 0,
   "metadata": {
    "application/vnd.databricks.v1+cell": {
     "cellMetadata": {
      "byteLimit": 2048000,
      "rowLimit": 10000
     },
     "inputWidgets": {},
     "nuid": "ba17d6fe-b46c-4f87-b2e4-0fe92c56a51c",
     "showTitle": false,
     "tableResultSettingsMap": {},
     "title": ""
    }
   },
   "outputs": [],
   "source": [
    "# Question 3 - How many years are in your ingested dataset?\n",
    "# Your code\n",
    "season_count = pitching_df.select('Season').distinct().count()\n",
    "\n",
    "# Add answer to the answer data frame.  \n",
    "answer_df = answer_df.withColumn(\"Answer\", \n",
    "                                 when(answer_df.Number == 3, lit(str(season_count)))\n",
    "                                 .otherwise(answer_df.Answer))\n",
    "display(answer_df)"
   ]
  },
  {
   "cell_type": "code",
   "execution_count": 0,
   "metadata": {
    "application/vnd.databricks.v1+cell": {
     "cellMetadata": {},
     "inputWidgets": {},
     "nuid": "8ee8e2c6-8fa1-45dd-9663-6c461224ce7c",
     "showTitle": false,
     "tableResultSettingsMap": {},
     "title": ""
    }
   },
   "outputs": [],
   "source": [
    "# Question 4 - How many distinct teams are in your dataset?\n",
    "# Your code\n",
    "your_answer = 0.0\n",
    "\n",
    "# Add answer to the answer data frame.  \n",
    "answer_df = answer_df.withColumn(\"Answer\", \n",
    "                                 when(answer_df.Number == 4, lit(str(your_answer)))\n",
    "                                 .otherwise(answer_df.Answer))\n",
    "display(answer_df)"
   ]
  },
  {
   "cell_type": "code",
   "execution_count": 0,
   "metadata": {
    "application/vnd.databricks.v1+cell": {
     "cellMetadata": {},
     "inputWidgets": {},
     "nuid": "1fc74b98-7faf-4e96-8784-6a3e74564aed",
     "showTitle": false,
     "tableResultSettingsMap": {},
     "title": ""
    }
   },
   "outputs": [],
   "source": [
    "# Question 5 - Is ERA normally distribed?: \n",
    "# Your code\n",
    "your_answer = \"text\"\n",
    "\n",
    "# Add answer to the answer data frame.  \n",
    "answer_df = answer_df.withColumn(\"Answer\", \n",
    "                                 when(answer_df.Number == 5, lit(your_answer))\n",
    "                                 .otherwise(answer_df.Answer))\n",
    "display(answer_df)"
   ]
  },
  {
   "cell_type": "code",
   "execution_count": 0,
   "metadata": {
    "application/vnd.databricks.v1+cell": {
     "cellMetadata": {},
     "inputWidgets": {},
     "nuid": "dcb8d854-88ce-4ab0-9503-7f7f263c0157",
     "showTitle": false,
     "tableResultSettingsMap": {},
     "title": ""
    }
   },
   "outputs": [],
   "source": [
    "# Question 6 - Is Age normally distribed?: \n",
    "# Your code\n",
    "your_answer = \"text\"\n",
    "\n",
    "# Add answer to the answer data frame.  \n",
    "answer_df = answer_df.withColumn(\"Answer\", \n",
    "                                 when(answer_df.Number == 6, lit(str(your_answer)))\n",
    "                                 .otherwise(answer_df.Answer))\n",
    "display(answer_df)"
   ]
  },
  {
   "cell_type": "code",
   "execution_count": 0,
   "metadata": {
    "application/vnd.databricks.v1+cell": {
     "cellMetadata": {},
     "inputWidgets": {},
     "nuid": "58ccc88a-2c89-4c0e-849e-c8ff5d316fc3",
     "showTitle": false,
     "tableResultSettingsMap": {},
     "title": ""
    }
   },
   "outputs": [],
   "source": [
    "# Question 7 - how many players are on this list for all years?\n",
    "# Your code\n",
    "your_answer = 0.0\n",
    "\n",
    "# Add answer to the answer data frame.  \n",
    "answer_df = answer_df.withColumn(\"Answer\", \n",
    "                                 when(answer_df.Number == 7, lit(str(your_answer)))\n",
    "                                 .otherwise(answer_df.Answer))\n",
    "display(answer_df)"
   ]
  }
 ],
 "metadata": {
  "application/vnd.databricks.v1+notebook": {
   "computePreferences": null,
   "dashboards": [],
   "environmentMetadata": {
    "base_environment": "",
    "environment_version": "3"
   },
   "inputWidgetPreferences": null,
   "language": "python",
   "notebookMetadata": {
    "pythonIndentUnit": 4
   },
   "notebookName": "ExploreBaseballPitching",
   "widgets": {}
  },
  "language_info": {
   "name": "python"
  }
 },
 "nbformat": 4,
 "nbformat_minor": 0
}
