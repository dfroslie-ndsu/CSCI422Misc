{
 "cells": [
  {
   "cell_type": "markdown",
   "metadata": {
    "application/vnd.databricks.v1+cell": {
     "cellMetadata": {},
     "inputWidgets": {},
     "nuid": "26d9e66d-6ca2-4738-a75d-995ae292a186",
     "showTitle": false,
     "tableResultSettingsMap": {},
     "title": ""
    }
   },
   "source": [
    "# Ingest Kaggle\n",
    "Example of ingesting from Kaggle.com.  This ingestion has a couple of unique factors:\n",
    "- It uses a client library that provides an easier API to use the REST calls.\n",
    "- It typically provides the data in zipped CSV format.  We want to minimally unzip before saving.\n",
    "\n",
    "For documentation on the Kaggle API, go to https://www.kaggle.com/docs/api.  This page includes the following important authentication information.  You will need the downloaded file and will use it below.\n",
    "\n",
    "\"In order to use the Kaggle’s public API, you must first authenticate using an API token. Go to the 'Account' tab of your user profile and select 'Create New Token'. This will trigger the download of kaggle.json, a file containing your API credentials.\""
   ]
  },
  {
   "cell_type": "code",
   "execution_count": 0,
   "metadata": {
    "application/vnd.databricks.v1+cell": {
     "cellMetadata": {
      "byteLimit": 2048000,
      "rowLimit": 10000
     },
     "inputWidgets": {},
     "nuid": "0430d915-ce93-4cec-9bde-c3a334681772",
     "showTitle": false,
     "tableResultSettingsMap": {},
     "title": ""
    }
   },
   "outputs": [],
   "source": [
    "# Assign variables to clarify inputs to the spark.conf.set() call.\n",
    "my_scope = \"Fall2025SecretScope\"   # Databricks secret scope.\n",
    "my_key = \"assign1store\"             # Key vaault secret containing storage account access key.\n",
    "storage_end_point = \"assign1store.dfs.core.windows.net\"  # Storage account uri.\n",
    "container_name = \"misc\"    # Container name.\n",
    "\n",
    "# The following spark configuration call uses the variables set above.\n",
    "spark.conf.set(\n",
    "    \"fs.azure.account.key.\" + storage_end_point,\n",
    "    dbutils.secrets.get(scope=my_scope, key=my_key))\n",
    "\n",
    "# To set the URI to be used in the code below, the container name (assign-1-blob) in the string.\n",
    "uri = \"abfss://\" + container_name + \"@\" + storage_end_point + \"/\" \n",
    "print(uri)\n"
   ]
  },
  {
   "cell_type": "code",
   "execution_count": 0,
   "metadata": {
    "application/vnd.databricks.v1+cell": {
     "cellMetadata": {
      "byteLimit": 2048000,
      "rowLimit": 10000
     },
     "inputWidgets": {},
     "nuid": "9c6027d6-fadc-4a6c-b9aa-19bebfd1f274",
     "showTitle": false,
     "tableResultSettingsMap": {},
     "title": ""
    }
   },
   "outputs": [],
   "source": [
    "# The Kaggle library won't be installed on the Databricks cluster by default.  So we need to \n",
    "# install it here.\n",
    "%pip install kaggle"
   ]
  },
  {
   "cell_type": "code",
   "execution_count": 0,
   "metadata": {
    "application/vnd.databricks.v1+cell": {
     "cellMetadata": {
      "byteLimit": 2048000,
      "rowLimit": 10000
     },
     "inputWidgets": {},
     "nuid": "e8a2c45a-4271-4344-884e-2325b5f79a41",
     "showTitle": false,
     "tableResultSettingsMap": {},
     "title": ""
    }
   },
   "outputs": [],
   "source": [
    "# When your register with Kaggle, a JSON file containing your account key is provided.  \n",
    "# Kaggle expects this to be in a well known location in the file system.\n",
    "# On a PC, this is in c:\\users\\<YourUserName>\\.kaggle\\kaggle.json\n",
    "# For Databricks, we'll put it in the following location.\n",
    "\n",
    "# Create the directory for Kaggle JSON\n",
    "dbutils.fs.mkdirs(\"file:/root/.kaggle\")\n",
    "\n",
    "# Copy the Kaggle JSON file from Azure storage to the expected location\n",
    "source_location = uri + \"AccessInfo/kaggle.json\"\n",
    "dbutils.fs.cp(source_location, \"file:/root/.kaggle/kaggle.json\")\n",
    "\n",
    "# Set the access to kaggle.json to 600 (owner: read/write, group: none, other: none)\n",
    "!chmod 600 /root/.kaggle/kaggle.json\n"
   ]
  },
  {
   "cell_type": "code",
   "execution_count": 0,
   "metadata": {
    "application/vnd.databricks.v1+cell": {
     "cellMetadata": {
      "byteLimit": 2048000,
      "rowLimit": 10000
     },
     "inputWidgets": {},
     "nuid": "f81e26e6-2e3f-40c0-ae22-e18ba329420b",
     "showTitle": false,
     "tableResultSettingsMap": {},
     "title": ""
    }
   },
   "outputs": [],
   "source": [
    "from kaggle.api.kaggle_api_extended import KaggleApi\n",
    "\n",
    "# Authentication defaults to use the config file in the predefined location.\n",
    "api = KaggleApi()\n",
    "api.authenticate()\n",
    "\n",
    "# Get the competitions list to test out the API.\n",
    "competitions = api.competitions_list()\n",
    "print(competitions)"
   ]
  },
  {
   "cell_type": "code",
   "execution_count": 0,
   "metadata": {
    "application/vnd.databricks.v1+cell": {
     "cellMetadata": {
      "byteLimit": 2048000,
      "rowLimit": 10000
     },
     "inputWidgets": {},
     "nuid": "8106f1ff-77dc-4519-9f8b-71f7912a9aa6",
     "showTitle": false,
     "tableResultSettingsMap": {},
     "title": ""
    }
   },
   "outputs": [],
   "source": [
    "dataset = 'uciml/iris'\n",
    "out_path = 'datasets/iris'\n",
    "\n",
    "out_path = uri + \"Bronze/Kaggle/Zip\"\n",
    "api.dataset_download_file(dataset, 'Iris.csv', out_path)\n",
    "\n",
    "api.dataset_download_files(dataset, path=out_path)\n"
   ]
  },
  {
   "cell_type": "code",
   "execution_count": 0,
   "metadata": {
    "application/vnd.databricks.v1+cell": {
     "cellMetadata": {
      "byteLimit": 2048000,
      "rowLimit": 10000
     },
     "inputWidgets": {},
     "nuid": "fae0f756-6c3c-40de-94c4-fc482c312154",
     "showTitle": false,
     "tableResultSettingsMap": {},
     "title": ""
    }
   },
   "outputs": [],
   "source": [
    "from kaggle.api.kaggle_api_extended import KaggleApi\n",
    "\n",
    "# Authenticate with Kaggle API\n",
    "api = KaggleApi()\n",
    "api.authenticate()\n",
    "\n",
    "# Define dataset and output path\n",
    "dataset = 'uciml/iris'\n",
    "out_path = '/dbfs/mnt/assign1store/misc/Bronze/Kaggle/Zip'\n",
    "\n",
    "# Download dataset files to the specified path, unzipping the files.\n",
    "api.dataset_download_files(dataset, path=out_path, unzip=True)\n",
    "\n",
    "# Copy the downloaded files to Azure storage\n",
    "dbutils.fs.cp(\"file:\" + out_path, uri + \"Bronze/Kaggle/Iris\", recurse=True)"
   ]
  },
  {
   "cell_type": "code",
   "execution_count": 0,
   "metadata": {
    "application/vnd.databricks.v1+cell": {
     "cellMetadata": {
      "byteLimit": 2048000,
      "rowLimit": 10000
     },
     "inputWidgets": {},
     "nuid": "131a509c-7203-4cee-8f90-99a9003e561e",
     "showTitle": false,
     "tableResultSettingsMap": {},
     "title": ""
    }
   },
   "outputs": [],
   "source": [
    "# Download the data from Kaggle.\n",
    "api.dataset_download_files(dataset, path=out_path)\n",
    "# Read the downloaded data into a dataframe.\n",
    "price_df = spark.read.csv(out_path, header=True)\n",
    "display(price_df)   "
   ]
  },
  {
   "cell_type": "code",
   "execution_count": 0,
   "metadata": {
    "application/vnd.databricks.v1+cell": {
     "cellMetadata": {
      "byteLimit": 2048000,
      "rowLimit": 10000
     },
     "inputWidgets": {},
     "nuid": "47bcc970-80b0-49aa-8391-56fd3c12aebb",
     "showTitle": false,
     "tableResultSettingsMap": {
      "0": {
       "dataGridStateBlob": "{\"version\":1,\"tableState\":{\"columnPinning\":{\"left\":[\"#row_number#\"],\"right\":[]},\"columnSizing\":{},\"columnVisibility\":{}},\"settings\":{\"columns\":{}},\"syncTimestamp\":1756600372929}",
       "filterBlob": null,
       "queryPlanFiltersBlob": null,
       "tableResultIndex": 0
      }
     },
     "title": ""
    }
   },
   "outputs": [],
   "source": [
    "from pyspark.sql.types import DoubleType, DateType\n",
    "\n",
    "# Convert the data to appropriate types.  Strings are OK for all except the following.\n",
    "price_types_df = price_df.withColumn(\"price\", price_df[\"price\"].cast(DoubleType()))\n",
    "price_types_df = price_types_df.withColumn(\"period\", price_df[\"period\"].cast(DateType()))\n",
    "\n",
    "display(price_types_df)\n"
   ]
  },
  {
   "cell_type": "code",
   "execution_count": 0,
   "metadata": {
    "application/vnd.databricks.v1+cell": {
     "cellMetadata": {
      "byteLimit": 2048000,
      "rowLimit": 10000
     },
     "inputWidgets": {},
     "nuid": "21ce3465-0f9b-4d63-b982-7ac2fb81aa8a",
     "showTitle": false,
     "tableResultSettingsMap": {},
     "title": ""
    }
   },
   "outputs": [],
   "source": [
    "import json\n",
    "\n",
    "# Parse the result and convert the monthly price list to a  dataframe.\n",
    "json_data = json.loads(api_response.content)\n",
    "\n",
    "response_json = json_data['response']  \n",
    "total_data_points = response_json['total']\n",
    "price_df = spark.createDataFrame(response_json['data'])\n",
    "\n",
    "print(total_data_points)\n",
    "display(price_df)\n",
    "\n"
   ]
  },
  {
   "cell_type": "code",
   "execution_count": 0,
   "metadata": {
    "application/vnd.databricks.v1+cell": {
     "cellMetadata": {
      "byteLimit": 2048000,
      "rowLimit": 10000
     },
     "inputWidgets": {},
     "nuid": "4c121e98-1b28-4672-8d2a-e3d787d63e39",
     "showTitle": false,
     "tableResultSettingsMap": {},
     "title": ""
    }
   },
   "outputs": [],
   "source": [
    "# Save the dataframe to delta.\n",
    "price_types_df.write.mode(\"overwrite\").format(\"delta\").save(uri + \"Bronze/EIA\")"
   ]
  },
  {
   "cell_type": "code",
   "execution_count": 0,
   "metadata": {
    "application/vnd.databricks.v1+cell": {
     "cellMetadata": {
      "byteLimit": 2048000,
      "rowLimit": 10000
     },
     "inputWidgets": {},
     "nuid": "6dfb0964-a0c5-4a05-9ba6-2ad73f704e8e",
     "showTitle": false,
     "tableResultSettingsMap": {
      "0": {
       "dataGridStateBlob": "{\"version\":1,\"tableState\":{\"columnPinning\":{\"left\":[\"#row_number#\"],\"right\":[]},\"columnSizing\":{},\"columnVisibility\":{}},\"settings\":{\"columns\":{}},\"syncTimestamp\":1756592330211}",
       "filterBlob": null,
       "queryPlanFiltersBlob": null,
       "tableResultIndex": 0
      }
     },
     "title": ""
    }
   },
   "outputs": [],
   "source": [
    "# Read back in.\n",
    "price_read_df = spark.read.format(\"delta\").load(uri + \"Bronze/EIA\")\n",
    "\n",
    "display(price_read_df)"
   ]
  }
 ],
 "metadata": {
  "application/vnd.databricks.v1+notebook": {
   "computePreferences": null,
   "dashboards": [],
   "environmentMetadata": {
    "base_environment": "",
    "environment_version": "3"
   },
   "inputWidgetPreferences": null,
   "language": "python",
   "notebookMetadata": {
    "pythonIndentUnit": 4
   },
   "notebookName": "IngestKaggle",
   "widgets": {}
  },
  "language_info": {
   "name": "python"
  }
 },
 "nbformat": 4,
 "nbformat_minor": 0
}
