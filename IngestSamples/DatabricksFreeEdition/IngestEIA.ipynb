{
 "cells": [
  {
   "cell_type": "markdown",
   "metadata": {
    "application/vnd.databricks.v1+cell": {
     "cellMetadata": {},
     "inputWidgets": {},
     "nuid": "26d9e66d-6ca2-4738-a75d-995ae292a186",
     "showTitle": false,
     "tableResultSettingsMap": {},
     "title": ""
    }
   },
   "source": [
    "# Ingest EIA\n",
    "Example of reading from the Energy Information Administration (EIA).  This example\n",
    "requires an API key that is freely available with registration.\n",
    "API documentation is at https://www.eia.gov/opendata/documentation.php.\n"
   ]
  },
  {
   "cell_type": "code",
   "execution_count": 0,
   "metadata": {
    "application/vnd.databricks.v1+cell": {
     "cellMetadata": {
      "byteLimit": 2048000,
      "rowLimit": 10000
     },
     "inputWidgets": {},
     "nuid": "0430d915-ce93-4cec-9bde-c3a334681772",
     "showTitle": false,
     "tableResultSettingsMap": {},
     "title": ""
    }
   },
   "outputs": [],
   "source": [
    "# Assign variables to clarify inputs to the spark.conf.set() call.\n",
    "my_scope = \"Fall2025SecretScope\"   # Databricks secret scope.\n",
    "my_key = \"assign1store\"             # Key vaault secret containing storage account access key.\n",
    "storage_end_point = \"assign1store.dfs.core.windows.net\"  # Storage account uri.\n",
    "container_name = \"misc\"    # Container name.\n",
    "\n",
    "# The following spark configuration call uses the variables set above.\n",
    "spark.conf.set(\n",
    "    \"fs.azure.account.key.\" + storage_end_point,\n",
    "    dbutils.secrets.get(scope=my_scope, key=my_key))\n",
    "\n",
    "# To set the URI to be used in the code below, the container name (assign-1-blob) in the string.\n",
    "uri = \"abfss://\" + container_name + \"@\" + storage_end_point + \"/\" \n",
    "print(uri)\n"
   ]
  },
  {
   "cell_type": "code",
   "execution_count": 0,
   "metadata": {
    "application/vnd.databricks.v1+cell": {
     "cellMetadata": {
      "byteLimit": 2048000,
      "rowLimit": 10000
     },
     "inputWidgets": {},
     "nuid": "df0ba6d2-8ba9-45af-96ef-bc00a6e7fb72",
     "showTitle": false,
     "tableResultSettingsMap": {},
     "title": ""
    }
   },
   "outputs": [],
   "source": [
    "# Retrieve the account key from the key vault.\n",
    "print(dbutils.secrets.list(scope=my_scope))  # Get the list of secrets in the scope.\n",
    "eia_key = dbutils.secrets.get(scope=my_scope, key=\"eia-key\")\n"
   ]
  },
  {
   "cell_type": "code",
   "execution_count": 0,
   "metadata": {
    "application/vnd.databricks.v1+cell": {
     "cellMetadata": {
      "byteLimit": 2048000,
      "rowLimit": 10000
     },
     "inputWidgets": {},
     "nuid": "5a6e9e9d-a8b6-4af8-b219-3922ff7d46c1",
     "showTitle": false,
     "tableResultSettingsMap": {},
     "title": ""
    }
   },
   "outputs": [],
   "source": [
    "# Get the average monthly price of electricity for MN since 2019 by sector.\n",
    "import requests\n",
    "\n",
    "request_params = {\"api_key\" : eia_key,\n",
    "                    \"start\" : \"2019-01\",\n",
    "                    \"data[]\" : \"price\",\n",
    "                    \"facets[stateid][][]\" : \"MN\"}\n",
    "\n",
    "api_response = requests.get(\n",
    "    \"https://api.eia.gov/v2/electricity/retail-sales/data/\",\n",
    "    params=request_params\n",
    ")\n",
    "\n",
    "print(api_response.content)\n"
   ]
  },
  {
   "cell_type": "code",
   "execution_count": 0,
   "metadata": {
    "application/vnd.databricks.v1+cell": {
     "cellMetadata": {
      "byteLimit": 2048000,
      "rowLimit": 10000
     },
     "inputWidgets": {},
     "nuid": "47bcc970-80b0-49aa-8391-56fd3c12aebb",
     "showTitle": false,
     "tableResultSettingsMap": {
      "0": {
       "dataGridStateBlob": "{\"version\":1,\"tableState\":{\"columnPinning\":{\"left\":[\"#row_number#\"],\"right\":[]},\"columnSizing\":{},\"columnVisibility\":{}},\"settings\":{\"columns\":{}},\"syncTimestamp\":1756600372929}",
       "filterBlob": null,
       "queryPlanFiltersBlob": null,
       "tableResultIndex": 0
      }
     },
     "title": ""
    }
   },
   "outputs": [],
   "source": [
    "from pyspark.sql.types import DoubleType, DateType\n",
    "\n",
    "# Convert the data to appropriate types.  Strings are OK for all except the following.\n",
    "price_types_df = price_df.withColumn(\"price\", price_df[\"price\"].cast(DoubleType()))\n",
    "price_types_df = price_types_df.withColumn(\"period\", price_df[\"period\"].cast(DateType()))\n",
    "\n",
    "display(price_types_df)\n"
   ]
  },
  {
   "cell_type": "code",
   "execution_count": 0,
   "metadata": {
    "application/vnd.databricks.v1+cell": {
     "cellMetadata": {
      "byteLimit": 2048000,
      "rowLimit": 10000
     },
     "inputWidgets": {},
     "nuid": "21ce3465-0f9b-4d63-b982-7ac2fb81aa8a",
     "showTitle": false,
     "tableResultSettingsMap": {},
     "title": ""
    }
   },
   "outputs": [],
   "source": [
    "import json\n",
    "\n",
    "# Parse the result and convert the monthly price list to a  dataframe.\n",
    "json_data = json.loads(api_response.content)\n",
    "\n",
    "response_json = json_data['response']  \n",
    "total_data_points = response_json['total']\n",
    "price_df = spark.createDataFrame(response_json['data'])\n",
    "\n",
    "print(total_data_points)\n",
    "display(price_df)\n",
    "\n"
   ]
  },
  {
   "cell_type": "code",
   "execution_count": 0,
   "metadata": {
    "application/vnd.databricks.v1+cell": {
     "cellMetadata": {
      "byteLimit": 2048000,
      "rowLimit": 10000
     },
     "inputWidgets": {},
     "nuid": "4c121e98-1b28-4672-8d2a-e3d787d63e39",
     "showTitle": false,
     "tableResultSettingsMap": {},
     "title": ""
    }
   },
   "outputs": [],
   "source": [
    "# Save the dataframe to delta.\n",
    "price_types_df.write.mode(\"overwrite\").format(\"delta\").save(uri + \"Bronze/EIA\")"
   ]
  },
  {
   "cell_type": "code",
   "execution_count": 0,
   "metadata": {
    "application/vnd.databricks.v1+cell": {
     "cellMetadata": {
      "byteLimit": 2048000,
      "rowLimit": 10000
     },
     "inputWidgets": {},
     "nuid": "6dfb0964-a0c5-4a05-9ba6-2ad73f704e8e",
     "showTitle": false,
     "tableResultSettingsMap": {
      "0": {
       "dataGridStateBlob": "{\"version\":1,\"tableState\":{\"columnPinning\":{\"left\":[\"#row_number#\"],\"right\":[]},\"columnSizing\":{},\"columnVisibility\":{}},\"settings\":{\"columns\":{}},\"syncTimestamp\":1756592330211}",
       "filterBlob": null,
       "queryPlanFiltersBlob": null,
       "tableResultIndex": 0
      }
     },
     "title": ""
    }
   },
   "outputs": [],
   "source": [
    "# Read back in.\n",
    "price_read_df = spark.read.format(\"delta\").load(uri + \"Bronze/EIA\")\n",
    "\n",
    "display(price_read_df)"
   ]
  }
 ],
 "metadata": {
  "application/vnd.databricks.v1+notebook": {
   "computePreferences": null,
   "dashboards": [],
   "environmentMetadata": {
    "base_environment": "",
    "environment_version": "3"
   },
   "inputWidgetPreferences": null,
   "language": "python",
   "notebookMetadata": {
    "pythonIndentUnit": 4
   },
   "notebookName": "IngestEIA",
   "widgets": {}
  },
  "language_info": {
   "name": "python"
  }
 },
 "nbformat": 4,
 "nbformat_minor": 0
}
