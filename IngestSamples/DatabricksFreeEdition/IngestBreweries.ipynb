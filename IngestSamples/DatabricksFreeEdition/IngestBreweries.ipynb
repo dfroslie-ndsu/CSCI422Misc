{
 "cells": [
  {
   "cell_type": "markdown",
   "metadata": {
    "application/vnd.databricks.v1+cell": {
     "cellMetadata": {
      "byteLimit": 2048000,
      "rowLimit": 10000
     },
     "inputWidgets": {},
     "nuid": "5467df4b-0fb1-420c-819d-4aaa7f56ff2f",
     "showTitle": false,
     "tableResultSettingsMap": {},
     "title": ""
    }
   },
   "source": [
    "# Ingest Breweries\n",
    "Sample code for ingesting data from the OpenBreweryDB API.  See https://www.openbrewerydb.org/documentation for API details."
   ]
  },
  {
   "cell_type": "code",
   "execution_count": 0,
   "metadata": {
    "application/vnd.databricks.v1+cell": {
     "cellMetadata": {
      "byteLimit": 2048000,
      "rowLimit": 10000
     },
     "inputWidgets": {},
     "nuid": "68e0a63c-cfe9-4695-b8dc-6bb9d2089c04",
     "showTitle": false,
     "tableResultSettingsMap": {},
     "title": ""
    }
   },
   "outputs": [],
   "source": [
    "# Get a list of breweries with a page size of 10.\n",
    "import requests, json\n",
    "import pandas as pd\n",
    "\n",
    "request_params = {\"per_page\" : 10}\n",
    "\n",
    "api_response = requests.get(\n",
    "    \"https://api.openbrewerydb.org/v1/breweries\",\n",
    "    params=request_params\n",
    ")\n",
    "\n",
    "print(api_response.content)\n"
   ]
  },
  {
   "cell_type": "code",
   "execution_count": 0,
   "metadata": {
    "application/vnd.databricks.v1+cell": {
     "cellMetadata": {
      "byteLimit": 2048000,
      "rowLimit": 10000
     },
     "inputWidgets": {},
     "nuid": "8931c9a7-bcdf-45e5-a996-c380e2dd687e",
     "showTitle": false,
     "tableResultSettingsMap": {},
     "title": ""
    }
   },
   "outputs": [],
   "source": [
    "# Save this sample.\n",
    "# Create the destination schema if needed.  The 'bronze' schema aligns to the raw ingestion tier of the medallion architecture.\n",
    "spark.sql(\"CREATE SCHEMA IF NOT EXISTS bronze_examples\")\n",
    "\n",
    "# Store breweries_df in a table in the bronze schema\n",
    "breweries_df.write.mode(\"overwrite\").saveAsTable(\"bronze_examples.breweries\")"
   ]
  },
  {
   "cell_type": "code",
   "execution_count": 0,
   "metadata": {
    "application/vnd.databricks.v1+cell": {
     "cellMetadata": {
      "byteLimit": 2048000,
      "rowLimit": 10000
     },
     "inputWidgets": {},
     "nuid": "17c8f20a-ff63-40bf-b223-db96aa707feb",
     "showTitle": false,
     "tableResultSettingsMap": {},
     "title": ""
    }
   },
   "outputs": [],
   "source": [
    "\n",
    "# Convert the JSON to a PySpark dataframe.\n",
    "json_data = json.loads(api_response.content)\n",
    "print(json_data)\n",
    "\n",
    "# Use Pandas as an interim step to convert to Spark DataFrame.\n",
    "breweries_pdf = pd.DataFrame(json_data)\n",
    "breweries_df = spark.createDataFrame(breweries_pdf)\n",
    "display(breweries_df)"
   ]
  },
  {
   "cell_type": "code",
   "execution_count": 0,
   "metadata": {
    "application/vnd.databricks.v1+cell": {
     "cellMetadata": {
      "byteLimit": 2048000,
      "rowLimit": 10000
     },
     "inputWidgets": {},
     "nuid": "8fffb558-3072-41ad-beaa-23cc8a3a9253",
     "showTitle": false,
     "tableResultSettingsMap": {},
     "title": ""
    }
   },
   "outputs": [],
   "source": [
    "# Did we get all of them?\n",
    "if breweries_closed_df.count() < page_size:\n",
    "    print(\"Found all closed breweries.\")\n",
    "else:\n",
    "    print(\"There are more closed breweries; we'll need to page through the results.\")"
   ]
  },
  {
   "cell_type": "code",
   "execution_count": 0,
   "metadata": {
    "application/vnd.databricks.v1+cell": {
     "cellMetadata": {
      "byteLimit": 2048000,
      "rowLimit": 10000
     },
     "inputWidgets": {},
     "nuid": "e0579a96-9aa9-4dd8-b76b-26c121a4bb92",
     "showTitle": false,
     "tableResultSettingsMap": {
      "0": {
       "dataGridStateBlob": "{\"version\":1,\"tableState\":{\"columnPinning\":{\"left\":[\"#row_number#\"],\"right\":[]},\"columnSizing\":{},\"columnVisibility\":{}},\"settings\":{\"columns\":{\"website_url\":{\"format\":{\"preset\":\"string-preset-url\"}}}},\"syncTimestamp\":1758474535238}",
       "filterBlob": "{\"version\":1,\"filterGroups\":[],\"syncTimestamp\":1758677980284}",
       "queryPlanFiltersBlob": "[]",
       "tableResultIndex": 0
      }
     },
     "title": ""
    }
   },
   "outputs": [],
   "source": [
    "# Find closed breweries.\n",
    "page_size = 100\n",
    "\n",
    "request_params = {\"per_page\" : page_size,\n",
    "                  \"by_type\" : \"closed\"}\n",
    "\n",
    "api_response = requests.get(\n",
    "    \"https://api.openbrewerydb.org/v1/breweries\",\n",
    "    params=request_params\n",
    ")\n",
    "\n",
    "# Convert the JSON to a PySpark dataframe.\n",
    "json_data = json.loads(api_response.content)\n",
    "\n",
    "# Use Pandas as an interim step to convert to Spark DataFrame.\n",
    "breweries_closed_pdf = pd.DataFrame(json_data)\n",
    "breweries_closed_df = spark.createDataFrame(breweries_closed_pdf)\n",
    "display(breweries_closed_df)"
   ]
  },
  {
   "cell_type": "code",
   "execution_count": 0,
   "metadata": {
    "application/vnd.databricks.v1+cell": {
     "cellMetadata": {
      "byteLimit": 2048000,
      "rowLimit": 10000
     },
     "inputWidgets": {},
     "nuid": "fabbd085-f82d-43e7-9888-9877ff3eb06c",
     "showTitle": false,
     "tableResultSettingsMap": {},
     "title": ""
    }
   },
   "outputs": [],
   "source": [
    "# Get all closed breweries.\n",
    "page_size = 100\n",
    "retrieval_count = page_size\n",
    "page_num = 1\n",
    "\n",
    "# APIs have different ways of error handling.  For this one, passing a parameter that is not valid \n",
    "# returns a status 200 (OK) and a default error message.\n",
    "while retrieval_count == page_size:\n",
    "    request_params = {\"per_page\" : page_size,\n",
    "                      \"by_type\" : \"closed\",\n",
    "                      \"page\" : page_num}\n",
    "    api_response = requests.get(\n",
    "    \"https://api.openbrewerydb.org/v1/breweries\",\n",
    "    params=request_params\n",
    "    )\n",
    "\n",
    "    # Process unless the start of the brewery error message.\n",
    "    if not api_response.content.startswith(b'{\"message\"'):\n",
    "        # Convert the JSON to a PySpark dataframe.\n",
    "        json_data = json.loads(api_response.content)\n",
    "        some_pdf = pd.DataFrame(json_data)\n",
    "        retrieval_count = len(some_pdf)\n",
    "        print(retrieval_count)\n",
    "\n",
    "        # Union the new data to the existing data.\n",
    "        if page_num == 1:\n",
    "            all_data_pdf = some_pdf\n",
    "        else:\n",
    "            all_data_pdf = pd.concat([all_data_pdf, some_pdf], ignore_index=True)\n",
    "        \n",
    "        page_num = page_num + 1\n",
    "        print(page_num)\n",
    "    else:\n",
    "        print(\"Error message\")\n",
    "        break\n",
    "\n",
    "print(len(all_data_pdf))\n",
    "\n",
    "breweries_closed_df = spark.createDataFrame(all_data_pdf)\n",
    "\n",
    "display(breweries_closed_df)\n"
   ]
  },
  {
   "cell_type": "code",
   "execution_count": 0,
   "metadata": {
    "application/vnd.databricks.v1+cell": {
     "cellMetadata": {
      "byteLimit": 2048000,
      "rowLimit": 10000
     },
     "inputWidgets": {},
     "nuid": "78fce879-630b-4e32-a484-0caeadbd94b8",
     "showTitle": false,
     "tableResultSettingsMap": {},
     "title": ""
    }
   },
   "outputs": [],
   "source": [
    "# Store breweries_df in a table in the bronze schema\n",
    "breweries_closed_df.write.mode(\"overwrite\").saveAsTable(\"bronze_examples.breweries_closed\")"
   ]
  }
 ],
 "metadata": {
  "application/vnd.databricks.v1+notebook": {
   "computePreferences": null,
   "dashboards": [],
   "environmentMetadata": {
    "base_environment": "",
    "environment_version": "3"
   },
   "inputWidgetPreferences": null,
   "language": "python",
   "notebookMetadata": {
    "pythonIndentUnit": 4
   },
   "notebookName": "IngestBreweries",
   "widgets": {}
  },
  "language_info": {
   "name": "python"
  }
 },
 "nbformat": 4,
 "nbformat_minor": 0
}
