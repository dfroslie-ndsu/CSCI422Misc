{
 "cells": [
  {
   "cell_type": "markdown",
   "metadata": {
    "application/vnd.databricks.v1+cell": {
     "cellMetadata": {},
     "inputWidgets": {},
     "nuid": "26d9e66d-6ca2-4738-a75d-995ae292a186",
     "showTitle": false,
     "tableResultSettingsMap": {},
     "title": ""
    }
   },
   "source": [
    "# Ingest Space Station\n",
    "Demonstrates how to call a REST API to read data and store result in Azure storage."
   ]
  },
  {
   "cell_type": "code",
   "execution_count": 0,
   "metadata": {
    "application/vnd.databricks.v1+cell": {
     "cellMetadata": {
      "byteLimit": 2048000,
      "rowLimit": 10000
     },
     "inputWidgets": {},
     "nuid": "0430d915-ce93-4cec-9bde-c3a334681772",
     "showTitle": false,
     "tableResultSettingsMap": {},
     "title": ""
    }
   },
   "outputs": [],
   "source": [
    "# Assign variables to clarify inputs to the spark.conf.set() call.\n",
    "my_scope = \"Fall2025SecretScope\"   # Databricks secret scope.\n",
    "my_key = \"assign1store\"             # Key vaault secret containing storage account access key.\n",
    "storage_end_point = \"assign1store.dfs.core.windows.net\"  # Storage account uri.\n",
    "container_name = \"misc\"    # Container name.\n",
    "\n",
    "# The following spark configuration call uses the variables set above.\n",
    "spark.conf.set(\n",
    "    \"fs.azure.account.key.\" + storage_end_point,\n",
    "    dbutils.secrets.get(scope=my_scope, key=my_key))\n",
    "\n",
    "# To set the URI to be used in the code below, the container name (assign-1-blob) in the string.\n",
    "uri = \"abfss://\" + container_name + \"@\" + storage_end_point + \"/\" \n",
    "print(uri)\n"
   ]
  },
  {
   "cell_type": "code",
   "execution_count": 0,
   "metadata": {
    "application/vnd.databricks.v1+cell": {
     "cellMetadata": {
      "byteLimit": 2048000,
      "rowLimit": 10000
     },
     "inputWidgets": {},
     "nuid": "5a6e9e9d-a8b6-4af8-b219-3922ff7d46c1",
     "showTitle": false,
     "tableResultSettingsMap": {},
     "title": ""
    }
   },
   "outputs": [],
   "source": [
    "import requests\n",
    "\n",
    "# Get current space station position\n",
    "position_api_response = requests.get(\"http://api.open-notify.org/iss-now.json\")\n",
    "\n",
    "print(position_api_response.content)\n"
   ]
  },
  {
   "cell_type": "code",
   "execution_count": 0,
   "metadata": {
    "application/vnd.databricks.v1+cell": {
     "cellMetadata": {
      "byteLimit": 2048000,
      "rowLimit": 10000
     },
     "inputWidgets": {},
     "nuid": "21ce3465-0f9b-4d63-b982-7ac2fb81aa8a",
     "showTitle": false,
     "tableResultSettingsMap": {},
     "title": ""
    }
   },
   "outputs": [],
   "source": [
    "import json\n",
    "\n",
    "# Get current number of people in space\n",
    "api_response = requests.get(\n",
    "    \"http://api.open-notify.org/astros.json\" \n",
    ")\n",
    "\n",
    "# Parse the result to JSON.\n",
    "json_data = json.loads(api_response.content)\n",
    "\n",
    "print(json_data)\n"
   ]
  },
  {
   "cell_type": "code",
   "execution_count": 0,
   "metadata": {
    "application/vnd.databricks.v1+cell": {
     "cellMetadata": {
      "byteLimit": 2048000,
      "rowLimit": 10000
     },
     "inputWidgets": {},
     "nuid": "1ce96c8d-a78b-48ec-b0f1-cc98e89142ca",
     "showTitle": false,
     "tableResultSettingsMap": {},
     "title": ""
    }
   },
   "outputs": [],
   "source": [
    "# Convert the people list to a` dataframe.\n",
    "if json_data['message']==\"success\":\n",
    "    astro_count = json_data['number']\n",
    "    astros_df = spark.createDataFrame(json_data['people'])\n",
    "\n",
    "print(\"Total astronauts:  \" + str(astro_count))\n",
    "display(astros_df)\n"
   ]
  },
  {
   "cell_type": "code",
   "execution_count": 0,
   "metadata": {
    "application/vnd.databricks.v1+cell": {
     "cellMetadata": {
      "byteLimit": 2048000,
      "rowLimit": 10000
     },
     "inputWidgets": {},
     "nuid": "4c121e98-1b28-4672-8d2a-e3d787d63e39",
     "showTitle": false,
     "tableResultSettingsMap": {},
     "title": ""
    }
   },
   "outputs": [],
   "source": [
    "# Save the dataframe in a few different formats.\n",
    "astros_df.coalesce(1).write.mode(\"overwrite\").options(header=True).csv(uri + \"Bronze/ISS/CSV\")\n",
    "astros_df.write.mode(\"overwrite\").parquet(uri + \"Bronze/ISS/Parquet\")\n",
    "astros_df.write.mode(\"overwrite\").format(\"delta\").save(uri + \"Bronze/ISS/Delta\")"
   ]
  },
  {
   "cell_type": "code",
   "execution_count": 0,
   "metadata": {
    "application/vnd.databricks.v1+cell": {
     "cellMetadata": {
      "byteLimit": 2048000,
      "rowLimit": 10000
     },
     "inputWidgets": {},
     "nuid": "6dfb0964-a0c5-4a05-9ba6-2ad73f704e8e",
     "showTitle": false,
     "tableResultSettingsMap": {
      "0": {
       "dataGridStateBlob": "{\"version\":1,\"tableState\":{\"columnPinning\":{\"left\":[\"#row_number#\"],\"right\":[]},\"columnSizing\":{},\"columnVisibility\":{}},\"settings\":{\"columns\":{}},\"syncTimestamp\":1756592330211}",
       "filterBlob": null,
       "queryPlanFiltersBlob": null,
       "tableResultIndex": 0
      }
     },
     "title": ""
    }
   },
   "outputs": [],
   "source": [
    "# Read back in.\n",
    "astros_csv_df = spark.read.csv(uri + \"Bronze/ISS/CSV\", header=True)\n",
    "astros_parquet_df = spark.read.parquet(uri + \"Bronze/ISS/Parquet\")\n",
    "astros_delta_df = spark.read.format(\"delta\").load(uri + \"Bronze/ISS/Delta\")\n",
    "\n",
    "display(astros_csv_df)\n",
    "display(astros_parquet_df)      \n",
    "display(astros_delta_df)"
   ]
  }
 ],
 "metadata": {
  "application/vnd.databricks.v1+notebook": {
   "computePreferences": null,
   "dashboards": [],
   "environmentMetadata": {
    "base_environment": "",
    "environment_version": "3"
   },
   "inputWidgetPreferences": null,
   "language": "python",
   "notebookMetadata": {
    "pythonIndentUnit": 4
   },
   "notebookName": "IngestSpaceStation",
   "widgets": {}
  },
  "language_info": {
   "name": "python"
  }
 },
 "nbformat": 4,
 "nbformat_minor": 0
}
